{
 "cells": [
  {
   "cell_type": "code",
   "execution_count": null,
   "metadata": {},
   "outputs": [],
   "source": [
    "from DistantSpeech.beamformer.utils import load_audio\n",
    "from scipy.signal import convolve as conv\n",
    "from matplotlib import pyplot as plt\n",
    "from tqdm import tqdm\n",
    "import numpy as np\n",
    "from DistantSpeech.adaptivefilter.BaseFilter import BaseFilter, awgn\n",
    "from DistantSpeech.adaptivefilter import FastFreqLms, SubbandLMS\n",
    "from DistantSpeech.beamformer.utils import load_audio as audioread\n",
    "from DistantSpeech.beamformer.utils import save_audio as audiowrite\n",
    "from DistantSpeech.transform.transform import Transform\n",
    "from DistantSpeech.transform.subband import Subband\n",
    "from DistantSpeech.beamformer.utils import pt\n",
    "from DistantSpeech.adaptivefilter import BaseFilter, awgn, FastFreqLms, Mdf\n",
    "from DistantSpeech.adaptivefilter.aec import Aec\n",
    "from DistantSpeech.beamformer.utils import pmesh"
   ]
  },
  {
   "cell_type": "code",
   "execution_count": null,
   "metadata": {},
   "outputs": [],
   "source": [
    "sim = 1\n",
    "\n",
    "src = audioread('/home/wangwei/work/lanxun/pcm/dac_data16000.wav')\n",
    "data = audioread('/home/wangwei/work/lanxun/pcm/mic_data_ali.wav')\n",
    "data = data[:360000]\n",
    "src = src[:len(data)]\n",
    "\n",
    "if sim:\n",
    "\n",
    "    # load source single and rir\n",
    "    src = load_audio('/home/wangwei/work/DistantSpeech/samples/audio_samples/cleanspeech_aishell3.wav')\n",
    "    src = src[:180000]\n",
    "    # src = np.random.rand(len(src))-0.5# * np.sqrt(npower)\n",
    "    interf = load_audio('/home/wangwei/work/DistantSpeech/samples/audio_samples/interf.wav')\n",
    "    print(src.shape)\n",
    "    rir = load_audio('/home/wangwei/work/DistantSpeech/DistantSpeech/adaptivefilter/rir.wav')\n",
    "    rir = rir[200:]\n",
    "\n",
    "    filter_len = 512\n",
    "\n",
    "    rir = rir[:filter_len, np.newaxis]*4\n",
    "    plt.figure()\n",
    "    plt.plot(rir)\n",
    "    plt.title('impulse response')\n",
    "    plt.show()\n",
    "\n",
    "    # src = awgn(src, 30)\n",
    "\n",
    "    SNR = 30\n",
    "    data_clean = conv(src, rir[:, 0])\n",
    "    data = data_clean[:len(src)]\n",
    "\n",
    "    # data[100000:180000] = data[100000:180000] + speech[100000:180000] * 2\n",
    "    data[:len(interf)] = data[:len(interf)] + interf\n",
    "\n",
    "    data = awgn(data, SNR)"
   ]
  },
  {
   "cell_type": "code",
   "execution_count": null,
   "metadata": {},
   "outputs": [],
   "source": [
    "# pt(speech[100000:140000])"
   ]
  },
  {
   "cell_type": "code",
   "execution_count": null,
   "metadata": {},
   "outputs": [],
   "source": [
    "filter_len = 512\n",
    "mdf = Aec(filter_len=filter_len, mu=1.e-1, num_block=4, alpha=0.9, prop=False)\n",
    "valid_len = len(src)-mdf.filter_len  # discard last frame\n",
    "output_mdf = np.zeros(data.shape)\n",
    "n_frames = int(output_mdf.shape[0]/mdf.block_len)\n",
    "mu_opt = np.zeros((mdf.half_bin, n_frames))\n",
    "\n",
    "leak_estimate = np.zeros(data.shape)\n",
    "\n",
    "est_err = np.zeros(valid_len)\n",
    "\n",
    "t = 0\n",
    "for n in tqdm(range((valid_len))):\n",
    "    if np.mod(n, mdf.block_len) == 0:\n",
    "        input_vector = src[n: n +  mdf.block_len]\n",
    "        d_vector = data[n : n + mdf.block_len]\n",
    "        err, w_mdf = mdf.update(input_vector, d_vector)\n",
    "        output_mdf[n : n + mdf.block_len] = err[:, 0]\n",
    "        leak_estimate[n : n + mdf.block_len] = mdf.leak_estimate\n",
    "        mu_opt[:, t] = mdf.mu_opt[:, 0]\n",
    "        t = t + 1\n",
    "\n",
    "        if n< 25000:\n",
    "            w_est = mdf.w\n",
    "\n",
    "        est_err[n : n + mdf.block_len] = np.sum(np.abs(rir - mdf.w[:len(rir)])**2)\n",
    "\n",
    "        # eta[n : n + mdf.block_len] = mdf.beta[16, 0]\n",
    "        # eta[n : n + mdf.block_len] = mdf.eta"
   ]
  },
  {
   "cell_type": "code",
   "execution_count": null,
   "metadata": {},
   "outputs": [],
   "source": [
    "plt.figure(figsize=(14,8))\n",
    "plt.plot(rir)\n",
    "plt.plot(mdf.w)\n",
    "plt.show()"
   ]
  },
  {
   "cell_type": "code",
   "execution_count": null,
   "metadata": {},
   "outputs": [],
   "source": [
    "pt(output_mdf)\n",
    "plt.figure(figsize=(14,8))\n",
    "plt.plot(10 * np.log(est_err / np.sum(np.abs(rir[:, 0])**2) + 1e-6))\n",
    "plt.show()\n",
    "pt(leak_estimate)\n",
    "print(min(leak_estimate))\n",
    "pmesh(mu_opt)\n",
    "# audiowrite('aec/ref2.wav', src)\n",
    "# audiowrite('aec/mic2.wav', data)\n",
    "audiowrite('aec/out.wav', output_mdf)"
   ]
  }
 ],
 "metadata": {
  "kernelspec": {
   "display_name": "Python 3.8.8 ('.venv': venv)",
   "language": "python",
   "name": "python3"
  },
  "language_info": {
   "codemirror_mode": {
    "name": "ipython",
    "version": 3
   },
   "file_extension": ".py",
   "mimetype": "text/x-python",
   "name": "python",
   "nbconvert_exporter": "python",
   "pygments_lexer": "ipython3",
   "version": "3.8.8"
  },
  "orig_nbformat": 4,
  "vscode": {
   "interpreter": {
    "hash": "532cddd74b9fabc13f740f51c7600370dbbc74aaf96e64501f4b1ae280f38de4"
   }
  }
 },
 "nbformat": 4,
 "nbformat_minor": 2
}
