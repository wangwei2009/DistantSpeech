{
 "cells": [
  {
   "cell_type": "code",
   "execution_count": 1,
   "metadata": {},
   "outputs": [],
   "source": [
    "from DistantSpeech.doa.srp import srp\n",
    "from DistantSpeech.beamformer.MicArray import MicArray\n",
    "from DistantSpeech.beamformer.utils import load_audio as audioread\n",
    "from DistantSpeech.beamformer.utils import pmesh"
   ]
  },
  {
   "cell_type": "code",
   "execution_count": 2,
   "metadata": {},
   "outputs": [
    {
     "name": "stdout",
     "output_type": "stream",
     "text": [
      "(316761, 6)\n"
     ]
    }
   ],
   "source": [
    "audio_path = '/home/wangwei/work/DistantSpeech/example/mix.wav'\n",
    "audiodata = audioread(audio_path)\n",
    "print(audiodata.shape)"
   ]
  },
  {
   "cell_type": "code",
   "execution_count": 3,
   "metadata": {},
   "outputs": [],
   "source": [
    "mic_array = MicArray(arrayType='circular', r=0.05, M=6)\n",
    "srp_obj = srp(mic_array)\n",
    "angle_spectrum = srp_obj.compute_angle_spectrum(audiodata)\n",
    "print(angle_spectrum)"
   ]
  },
  {
   "cell_type": "code",
   "execution_count": null,
   "metadata": {},
   "outputs": [],
   "source": [
    "srp_obj.show()"
   ]
  },
  {
   "cell_type": "code",
   "execution_count": null,
   "metadata": {},
   "outputs": [],
   "source": [
    "pmesh(angle_spectrum)"
   ]
  }
 ],
 "metadata": {
  "interpreter": {
   "hash": "532cddd74b9fabc13f740f51c7600370dbbc74aaf96e64501f4b1ae280f38de4"
  },
  "kernelspec": {
   "display_name": "Python 3.8.8 ('.venv': venv)",
   "language": "python",
   "name": "python3"
  },
  "language_info": {
   "codemirror_mode": {
    "name": "ipython",
    "version": 3
   },
   "file_extension": ".py",
   "mimetype": "text/x-python",
   "name": "python",
   "nbconvert_exporter": "python",
   "pygments_lexer": "ipython3",
   "version": "3.8.8"
  },
  "orig_nbformat": 4
 },
 "nbformat": 4,
 "nbformat_minor": 2
}
