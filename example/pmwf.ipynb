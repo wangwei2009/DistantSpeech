{
 "cells": [
  {
   "cell_type": "code",
   "execution_count": 1,
   "metadata": {},
   "outputs": [],
   "source": [
    "# simulate parameterized multichannel non-causal Wiener filter (PMWF), suppose that the noise\n",
    "# samples are known for any processed data frame"
   ]
  },
  {
   "cell_type": "code",
   "execution_count": 2,
   "metadata": {},
   "outputs": [
    {
     "name": "stdout",
     "output_type": "stream",
     "text": [
      "The RT60 is 82 ms\n",
      "(6, 201674)\n",
      "(257, 794, 6)\n",
      "(257, 787, 6)\n"
     ]
    },
    {
     "data": {
      "image/png": "[encoded data removed]",
      "text/plain": [
       "<Figure size 432x288 with 12 Axes>"
      ]
     },
     "metadata": {
      "needs_background": "light"
     },
     "output_type": "display_data"
    }
   ],
   "source": [
    "import numpy as np\n",
    "import librosa\n",
    "from scipy.fftpack import fft\n",
    "import matplotlib.pyplot as plt\n",
    "from DistantSpeech.transform.transform import Transform\n",
    "from DistantSpeech.beamformer.utils import pmesh, mesh, load_wav, save_audio, load_pcm\n",
    "from DistantSpeech.beamformer.utils import load_audio as audioread\n",
    "from DistantSpeech.beamformer.utils import save_audio as audiowrite\n",
    "from DistantSpeech.beamformer.MicArray import MicArray, ArraySim\n",
    "from DistantSpeech.beamformer.beamformer import beamformer\n",
    "from DistantSpeech.beamformer.MicArray import MicArray, compute_tau\n",
    "from DistantSpeech.noise_estimation.mcra import NoiseEstimationMCRA\n",
    "from DistantSpeech.noise_estimation.mcra2 import MCRA2\n",
    "\n",
    "sampling_frequency = 16000\n",
    "fft_length = 512\n",
    "fft_shift = 256\n",
    "mic_diameter = 0.1\n",
    "sound_speed = 343\n",
    "look_direction = 30\n",
    "\n",
    "signal = audioread(\"/home/wangwei/work/DistantSpeech/samples/audio_samples/cleanspeech_aishell3_2.wav\")\n",
    "noise = audioread(\"/home/wangwei/work/DistantSpeech/samples/noise/office1.wav\")\n",
    "fs = 16000\n",
    "M = 6\n",
    "mic_array = MicArray(arrayType=\"circular\", r=mic_diameter/2, M=M)\n",
    "mic_array_sim = mic_array.array_sim\n",
    "# print(mic_array_sim.R)\n",
    "array_data, premix = mic_array_sim.generate_audio(signal, interference=noise, source_angle=look_direction, interf_angle=270, sir=10, snr=30)\n",
    "# audiowrite('mix.wav', np.transpose(array_data))\n",
    "# audiowrite('signal.wav', np.transpose(premix[0, :, :]))\n",
    "# audiowrite('interf.wav', np.transpose(premix[1, :, :]))\n",
    "\n",
    "print(array_data.shape)\n",
    "M = array_data.shape[0]\n",
    "transform = Transform(n_fft=512, hop_length=256, channel=M)\n",
    "D = transform.stft(np.transpose(array_data))\n",
    "Noise = transform.stft(np.transpose(premix[1, :M, :]))\n",
    "print(Noise.shape)\n",
    "half_bin = D.shape[0]\n",
    "frame_num = D.shape[1]\n",
    "print(D.shape)"
   ]
  },
  {
   "cell_type": "code",
   "execution_count": 4,
   "metadata": {},
   "outputs": [
    {
     "name": "stdout",
     "output_type": "stream",
     "text": [
      "[1.+0.j 1.+0.j 1.+0.j 1.+0.j 1.+0.j 1.+0.j]\n"
     ]
    }
   ],
   "source": [
    "Rvv = np.zeros((M,M, half_bin), dtype=complex)\n",
    "Ryy = np.zeros((M,M, half_bin), dtype=complex)\n",
    "Rxx = np.zeros((M,M, half_bin), dtype=complex)\n",
    "xi = np.zeros((frame_num, half_bin))\n",
    "Rvv1 = np.zeros((frame_num, half_bin))\n",
    "Rvv_inv = np.zeros((M, M, half_bin),dtype=complex)\n",
    "w_mvdr = np.zeros((M,half_bin),dtype=complex)\n",
    "w = np.zeros((M,half_bin),dtype=complex)\n",
    "Yout_mvdr = np.zeros((half_bin, frame_num), dtype=complex)\n",
    "Yout = np.zeros((half_bin, frame_num), dtype=complex)\n",
    "p = np.zeros((half_bin, frame_num, ))\n",
    "\n",
    "\n",
    "def normalize(steering_vector):\n",
    "    for ii in range(0, fft_length):            \n",
    "        weight = np.matmul(np.conjugate(steering_vector[:, ii]).T, steering_vector[:, ii])\n",
    "        steering_vector[:, ii] = (steering_vector[:, ii] / weight) \n",
    "    return steering_vector   \n",
    "\n",
    "def get_sterring_vector_mic(look_direction=0):\n",
    "    freq_bin = np.linspace(0, half_bin - 1, half_bin)\n",
    "    omega = 2 * np.pi * freq_bin * sampling_frequency / fft_length\n",
    "    a = np.zeros((M, half_bin), dtype=complex)\n",
    "    for k in range(half_bin):\n",
    "        tau = compute_tau(mic_array=mic_array, incident_angle=np.array([look_direction, 0]) * np.pi / 180)\n",
    "        a[:, k:k+1] = np.exp(-1j * omega[k] * tau)\n",
    "\n",
    "    return a # [M, half_bin]\n",
    "\n",
    "steer_vector = get_sterring_vector_mic(look_direction=look_direction)  # [M, freq]\n",
    "print(steer_vector[:,0])\n",
    "\n",
    "noise_estimator = NoiseEstimationMCRA(nfft=fft_length)\n",
    "# noise_estimator = MCRA2(nfft=fft_length)\n",
    "noise_estimator.L = 15\n",
    "u = np.zeros((M,1))\n",
    "u[0,0] = 1\n",
    "alpha_yy = 0.85\n",
    "alpha_vv = 0.92\n",
    "for n in range(frame_num):\n",
    "    y = D[:, n, :] # [F,M]\n",
    "    noise = Noise[:, n, :] # [F,M]\n",
    "    psd_yy = np.einsum('ij,il->ijl', y, y.conj())\n",
    "    psd_vv = np.einsum('ij,il->ijl', noise, noise.conj())\n",
    "    Ryy = alpha_yy * Ryy + (1 - alpha_yy) * (np.transpose(psd_yy, (1, 2, 0)))\n",
    "    # Rvv = alpha_vv * Rvv + (1 - alpha_vv) * (np.transpose(psd_vv, (1, 2, 0)))\n",
    "    noise_estimator.estimation(np.abs(y[:, 0])**2)\n",
    "    p[:, n] = noise_estimator.p\n",
    "    for k in range(half_bin):\n",
    "        alpha_tilde = alpha_vv + (0.98 - alpha_vv) * noise_estimator.p[k]\n",
    "        alpha_tilde = alpha_vv\n",
    "\n",
    "        Rvv[:, :, k] = alpha_tilde * Rvv[:, :, k] + (1-alpha_tilde) * (np.transpose(psd_vv, (1, 2, 0)))[:, :, k]\n",
    "        diag_value = 1e-6\n",
    "        Rvv_inv[:, :, k] = np.linalg.inv(Rvv[:, :, k] + np.eye(M) * diag_value)\n",
    "        Rxx[:, :, k] = Ryy[:, :, k] - Rvv[:, :, k]\n",
    "        xi[n, k] = np.real(np.trace(Rvv_inv[:, :, k] @ Ryy[:, :, k])) - M\n",
    "        Rvv_inv_k = Rvv_inv[:, :, k]\n",
    "        if xi[n, k] < 0:\n",
    "            Rvv_inv_k = np.linalg.inv(Ryy[:, :, k] + np.eye(M) * 1e-1)\n",
    "            xi[n, k] = np.real(np.trace(Rvv_inv_k @ Ryy[:, :, k])) - M\n",
    "            \n",
    "        w[:, k:k+1] = (Rvv_inv_k @ Ryy[:, :, k] - np.eye(M))@u/(xi[n, k])\n",
    "        w_mvdr[:, k:k+1] = Rvv_inv[:, :, k] @ steer_vector[:, k:k+1]/(steer_vector[:, k:k+1].conj().T@Rvv_inv[:, :, k]@steer_vector[:, k:k+1])\n",
    "\n",
    "        Yout[k, n] = w[:, k:k+1].conj().T@y[k, :].T\n",
    "        Yout_mvdr[k, n] = w_mvdr[:, k:k+1].conj().T@y[k, :].T\n",
    "\n",
    "pmesh(librosa.power_to_db(np.abs(D[:, :, 0])))\n",
    "pmesh(librosa.power_to_db(np.abs(Yout)))\n",
    "pmesh(librosa.power_to_db(np.abs(Yout_mvdr)))\n",
    "yout = transform.istft(Yout)\n",
    "# audiowrite('audio.wav', yout)"
   ]
  }
 ],
 "metadata": {
  "interpreter": {
   "hash": "532cddd74b9fabc13f740f51c7600370dbbc74aaf96e64501f4b1ae280f38de4"
  },
  "kernelspec": {
   "display_name": "Python 3.8.8 ('.venv': venv)",
   "language": "python",
   "name": "python3"
  },
  "language_info": {
   "codemirror_mode": {
    "name": "ipython",
    "version": 3
   },
   "file_extension": ".py",
   "mimetype": "text/x-python",
   "name": "python",
   "nbconvert_exporter": "python",
   "pygments_lexer": "ipython3",
   "version": "3.8.8"
  },
  "orig_nbformat": 4
 },
 "nbformat": 4,
 "nbformat_minor": 2
}
